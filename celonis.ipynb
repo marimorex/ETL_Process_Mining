{
 "cells": [
  {
   "cell_type": "code",
   "execution_count": 1,
   "metadata": {},
   "outputs": [
    {
     "name": "stdout",
     "output_type": "stream",
     "text": [
      "2022-06-15 17:12:41 - pycelonis: Login successful! Hello Moreno Maria\n",
      "Successsull Login\n"
     ]
    }
   ],
   "source": [
    "import numpy as np \n",
    "import pandas as pd \n",
    "import os \n",
    "from decouple import config\n",
    "from pycelonis import get_celonis\n",
    "\n",
    "CELONIS_URL = config('CELONIS_URL')\n",
    "API_TOKEN = config('API_TOKEN')\n",
    "\n",
    "celonis = get_celonis(celonis_url= CELONIS_URL,api_token= API_TOKEN)\n",
    "print(\"Successsull Login\")\n"
   ]
  },
  {
   "cell_type": "code",
   "execution_count": 2,
   "metadata": {},
   "outputs": [],
   "source": [
    "df = pd.read_csv(config('OUTPUT_FILE_NAME') + '.csv')\n",
    "\n",
    "column_config = [{'fieldLength': 20, 'columnName': 'resource', 'columnType': 'STRING'}, {'fieldLength': 20, 'columnName': 'status', 'columnType': 'STRING'}, {'columnName': 'case_id', 'columnType': 'INTEGER'}, {'columnName': 'timestamp', 'columnType': 'DATE'}, {'fieldLength': 20, 'columnName': 'activity', 'columnType': 'STRING'}]\n",
    "column_config_grades = [{'columnName': 'case_id', 'columnType': 'STRING'}, {'columnName': 'final_mark', 'columnType': 'FLOAT'}]"
   ]
  },
  {
   "cell_type": "code",
   "execution_count": 3,
   "metadata": {},
   "outputs": [
    {
     "name": "stdout",
     "output_type": "stream",
     "text": [
      "data_pool_test\n",
      "<Pool, id ac0e4ab2-c0a7-434b-a9f0-11c618d191b5, name data_pool_test>\n",
      "data_pool configured\n"
     ]
    }
   ],
   "source": [
    "print(config('CELONIS_DATA_POOL_NAME'))\n",
    "dp = celonis.pools\n",
    "   \n",
    "if config('CELONIS_DATA_POOL_NAME') not in dp.names:\n",
    "    celonis.create_pool(config('CELONIS_DATA_POOL_NAME'))\n",
    "    dp = celonis.pools\n",
    "    \n",
    "data_pool = dp.find(config('CELONIS_DATA_POOL_NAME'))  \n",
    "print(data_pool)\n",
    "print(\"data_pool configured\")\n"
   ]
  },
  {
   "cell_type": "code",
   "execution_count": 4,
   "metadata": {},
   "outputs": [
    {
     "name": "stdout",
     "output_type": "stream",
     "text": [
      "data_model_test\n",
      "<Datamodel, id 8ccd34da-4ffa-4bf6-9f43-1b49db348838, name data_model_test>\n",
      "data_model configured\n"
     ]
    }
   ],
   "source": [
    "print(config('CELONIS_DATA_MODEL_NAME'))\n",
    "dm = celonis.datamodels\n",
    "\n",
    "if config('CELONIS_DATA_MODEL_NAME') not in dm.names:\n",
    "    celonis.create_datamodel(config('CELONIS_DATA_MODEL_NAME'),data_pool)\n",
    "    dm = celonis.datamodels\n",
    "\n",
    "data_model = dm.find(config('CELONIS_DATA_MODEL_NAME'))  \n",
    "print(data_model)\n",
    "print(\"data_model configured\")\n"
   ]
  },
  {
   "cell_type": "code",
   "execution_count": 5,
   "metadata": {},
   "outputs": [
    {
     "name": "stdout",
     "output_type": "stream",
     "text": [
      "workspace_test\n",
      "<Workspace, id 0dcb5d5d-6f01-42a2-9f5c-58824f8bb0b1, name workspace_test>\n",
      "work_space configured\n"
     ]
    }
   ],
   "source": [
    "print(config('CELONIS_WORKSPACE_NAME'))\n",
    "ws = celonis.workspaces\n",
    "\n",
    "if config('CELONIS_WORKSPACE_NAME') not in ws.names:\n",
    "    celonis.create_workspace(config('CELONIS_WORKSPACE_NAME'), data_model)\n",
    "    ws = celonis.workspaces\n",
    "\n",
    "work_space = ws.find(config('CELONIS_WORKSPACE_NAME'))  \n",
    "print(work_space)\n",
    "print(\"work_space configured\")\n"
   ]
  },
  {
   "cell_type": "code",
   "execution_count": 6,
   "metadata": {},
   "outputs": [
    {
     "name": "stdout",
     "output_type": "stream",
     "text": [
      "<Analysis, id d32d6e7f-7df0-4213-8632-c945b5d7c8b7, name analysis_test>\n",
      "analysis configured\n"
     ]
    }
   ],
   "source": [
    "analyses = celonis.analyses\n",
    "\n",
    "if config('CELONIS_ANALYSIS_NAME') not in analyses.names:\n",
    "    celonis.create_analysis(config('CELONIS_ANALYSIS_NAME'),work_space)\n",
    "    analyses = celonis.analyses\n",
    "\n",
    "analysis = analyses.find(config('CELONIS_ANALYSIS_NAME'))\n",
    "print(analysis)\n",
    "print(\"analysis configured\")\n"
   ]
  },
  {
   "cell_type": "code",
   "execution_count": 7,
   "metadata": {},
   "outputs": [
    {
     "name": "stdout",
     "output_type": "stream",
     "text": [
      "2022-06-15 17:13:19 - pycelonis: Dropping existing table table_test_logs.\n",
      "2022-06-15 17:13:21 - pycelonis: Data push job started...\n",
      "2022-06-15 17:13:25 - pycelonis: Data push job status finished: DONE\n",
      "2022-06-15 17:13:27 - pycelonis: Complete Data Model reload started...\n",
      "2022-06-15 17:13:41 - pycelonis: Partial Data Model reload started...\n",
      "2022-06-15 17:14:11 - pycelonis: Partial Data Model reload running...\n",
      "2022-06-15 17:14:41 - pycelonis: Partial Data Model reload running...\n",
      "Events Logs sent and Model configured, Analysis available in celonis platform\n"
     ]
    }
   ],
   "source": [
    "data_pool.create_table(table_name=config('CELONIS_TABLE_NAME'),\n",
    "                       df_or_path=df,\n",
    "                       if_exists=\"drop\",\n",
    "                       column_config=column_config)\n",
    "\n",
    "if config('CELONIS_TABLE_NAME') in data_model.tables.names:\n",
    "    data_model_table = data_model.tables.find(config('CELONIS_TABLE_NAME'))\n",
    "    data_model_table.delete()\n",
    "    data_model = dm.find(config('CELONIS_DATA_MODEL_NAME')) \n",
    "\n",
    "data_model.add_table_from_pool(table_name=config('CELONIS_TABLE_NAME'), \n",
    "                               alias= config('CELONIS_TABLE_NAME'),\n",
    "                               reload=\"FORCE_COMPLETE\")\n",
    "\n",
    "data_model.create_process_configuration(\n",
    "        case_table=None,\n",
    "        activity_table=config('CELONIS_TABLE_NAME'),\n",
    "        case_column=\"case_id\",\n",
    "        activity_column=\"activity\",\n",
    "        timestamp_column=\"_CELONIS_CHANGE_DATE\",\n",
    "        sorting_column=\"status\")\n",
    "\n",
    "data_model.reload(tables=config('CELONIS_TABLE_NAME'))\n",
    "\n",
    "print(\"Events Logs sent and Model configured, Analysis available in celonis platform\")"
   ]
  }
 ],
 "metadata": {
  "interpreter": {
   "hash": "31f2aee4e71d21fbe5cf8b01ff0e069b9275f58929596ceb00d14d90e3e16cd6"
  },
  "kernelspec": {
   "display_name": "Python 3.8.5 64-bit",
   "language": "python",
   "name": "python3"
  },
  "language_info": {
   "codemirror_mode": {
    "name": "ipython",
    "version": 3
   },
   "file_extension": ".py",
   "mimetype": "text/x-python",
   "name": "python",
   "nbconvert_exporter": "python",
   "pygments_lexer": "ipython3",
   "version": "3.8.5"
  },
  "orig_nbformat": 4
 },
 "nbformat": 4,
 "nbformat_minor": 2
}
